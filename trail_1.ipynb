{
  "nbformat": 4,
  "nbformat_minor": 0,
  "metadata": {
    "kernelspec": {
      "display_name": "Python 3",
      "language": "python",
      "name": "python3"
    },
    "language_info": {
      "codemirror_mode": {
        "name": "ipython",
        "version": 3
      },
      "file_extension": ".py",
      "mimetype": "text/x-python",
      "name": "python",
      "nbconvert_exporter": "python",
      "pygments_lexer": "ipython3",
      "version": "3.7.6"
    },
    "colab": {
      "name": "trail 1.ipynb",
      "provenance": [],
      "include_colab_link": true
    },
    "accelerator": "GPU"
  },
  "cells": [
    {
      "cell_type": "markdown",
      "metadata": {
        "id": "view-in-github",
        "colab_type": "text"
      },
      "source": [
        "<a href=\"https://colab.research.google.com/github/ZeBread/tester/blob/main/trail_1.ipynb\" target=\"_parent\"><img src=\"https://colab.research.google.com/assets/colab-badge.svg\" alt=\"Open In Colab\"/></a>"
      ]
    },
    {
      "cell_type": "code",
      "metadata": {
        "id": "xSRV632US4wB"
      },
      "source": [
        "#PACKAGES\n",
        "import tensorflow as tf\n",
        "import matplotlib.pyplot as plt\n",
        "import cv2\n",
        "import os\n",
        "import numpy as np\n",
        "from tensorflow.keras.preprocessing.image import ImageDataGenerator\n",
        "from tensorflow.keras.preprocessing import image\n",
        "from tensorflow.keras.optimizers import RMSprop\n",
        "from tensorflow import keras\n",
        "from tensorflow.keras import layers\n",
        "from tensorflow.keras.models import Sequential"
      ],
      "execution_count": 1,
      "outputs": []
    },
    {
      "cell_type": "code",
      "metadata": {
        "colab": {
          "base_uri": "https://localhost:8080/"
        },
        "id": "wNdUMIlETLxv",
        "outputId": "eda8cb49-30c1-4658-a527-d99798686bd1"
      },
      "source": [
        "#DRIVE LINKING\r\n",
        "from google.colab import drive\r\n",
        "drive.mount('/content/drive/')"
      ],
      "execution_count": 2,
      "outputs": [
        {
          "output_type": "stream",
          "text": [
            "Mounted at /content/drive/\n"
          ],
          "name": "stdout"
        }
      ]
    },
    {
      "cell_type": "code",
      "metadata": {
        "id": "MWrMX6acWRS8"
      },
      "source": [
        "#DATA DIRECTORY LINKING\r\n",
        "DATADIR = \"/content/drive/MyDrive/train_200px\"\r\n",
        "CATEGORIES = [\"FH\",\"MC\",\"MH\",\"NL\",\"OH\",\"VC\"]"
      ],
      "execution_count": 3,
      "outputs": []
    },
    {
      "cell_type": "markdown",
      "metadata": {
        "id": "QsXvlrgrW9S_"
      },
      "source": [
        "CREATING DATASET"
      ]
    },
    {
      "cell_type": "code",
      "metadata": {
        "id": "8g6QMZ-dcFVK"
      },
      "source": [
        "batch_size = 5\r\n",
        "img_height = 200\r\n",
        "img_width = 200"
      ],
      "execution_count": 4,
      "outputs": []
    },
    {
      "cell_type": "code",
      "metadata": {
        "colab": {
          "base_uri": "https://localhost:8080/"
        },
        "id": "7eOjZnkwcQey",
        "outputId": "8e6668f8-7436-408c-9b86-bf83dccc460c"
      },
      "source": [
        "train_ds = tf.keras.preprocessing.image_dataset_from_directory(\r\n",
        "  DATADIR,\r\n",
        "  validation_split=0.1,\r\n",
        "  subset=\"training\",\r\n",
        "  seed=123,\r\n",
        "  image_size=(img_height, img_width),\r\n",
        "  batch_size=batch_size)"
      ],
      "execution_count": 5,
      "outputs": [
        {
          "output_type": "stream",
          "text": [
            "Found 592 files belonging to 6 classes.\n",
            "Using 533 files for training.\n"
          ],
          "name": "stdout"
        }
      ]
    },
    {
      "cell_type": "code",
      "metadata": {
        "colab": {
          "base_uri": "https://localhost:8080/"
        },
        "id": "COPyKeVhcigR",
        "outputId": "b4ae1357-c657-4be5-a502-aba2369b157b"
      },
      "source": [
        "val_ds = tf.keras.preprocessing.image_dataset_from_directory(\r\n",
        "  DATADIR,\r\n",
        "  validation_split=0.1,\r\n",
        "  subset=\"validation\",\r\n",
        "  seed=123,\r\n",
        "  image_size=(img_height, img_width),\r\n",
        "  batch_size=batch_size)"
      ],
      "execution_count": 6,
      "outputs": [
        {
          "output_type": "stream",
          "text": [
            "Found 592 files belonging to 6 classes.\n",
            "Using 59 files for validation.\n"
          ],
          "name": "stdout"
        }
      ]
    },
    {
      "cell_type": "code",
      "metadata": {
        "colab": {
          "base_uri": "https://localhost:8080/"
        },
        "id": "s7I3sbS_cp0Z",
        "outputId": "a08a4d37-e764-421d-c845-a936bc9f4b26"
      },
      "source": [
        "class_names = train_ds.class_names\r\n",
        "print(class_names)"
      ],
      "execution_count": 7,
      "outputs": [
        {
          "output_type": "stream",
          "text": [
            "['FH_200px', 'MC_200px', 'MH_200px', 'NL_200px', 'OH_200px', 'VC_200px']\n"
          ],
          "name": "stdout"
        }
      ]
    },
    {
      "cell_type": "markdown",
      "metadata": {
        "id": "pBAhhaBBc1ap"
      },
      "source": [
        "VISUALISE DATA"
      ]
    },
    {
      "cell_type": "code",
      "metadata": {
        "colab": {
          "base_uri": "https://localhost:8080/"
        },
        "id": "d-UprlE1c7XO",
        "outputId": "528723ea-58a7-43fe-fd33-83e857075a46"
      },
      "source": [
        "for image_batch, labels_batch in train_ds:\r\n",
        "  print(image_batch.shape)\r\n",
        "  print(labels_batch.shape)\r\n",
        "  break"
      ],
      "execution_count": 8,
      "outputs": [
        {
          "output_type": "stream",
          "text": [
            "(5, 200, 200, 3)\n",
            "(5,)\n"
          ],
          "name": "stdout"
        }
      ]
    },
    {
      "cell_type": "markdown",
      "metadata": {
        "id": "x694E7w2dRxt"
      },
      "source": [
        "Configure the dataset for performance"
      ]
    },
    {
      "cell_type": "code",
      "metadata": {
        "id": "btNHtZ-UdVGB"
      },
      "source": [
        "AUTOTUNE = tf.data.AUTOTUNE\r\n",
        "\r\n",
        "train_ds = train_ds.cache().shuffle(50).prefetch(buffer_size=AUTOTUNE)\r\n",
        "val_ds = val_ds.cache().prefetch(buffer_size=AUTOTUNE)"
      ],
      "execution_count": 9,
      "outputs": []
    },
    {
      "cell_type": "markdown",
      "metadata": {
        "id": "U-uftaMgddzZ"
      },
      "source": [
        "Standardize the data"
      ]
    },
    {
      "cell_type": "markdown",
      "metadata": {
        "id": "Op6EsVgyd2Mq"
      },
      "source": [
        "CREATE MODEL"
      ]
    },
    {
      "cell_type": "code",
      "metadata": {
        "id": "PQnu8QsFS4wJ"
      },
      "source": [
        "num_classes = 6\n",
        "\n",
        "model = Sequential([\n",
        "  layers.experimental.preprocessing.Rescaling(1./255, input_shape=(img_height, img_width, 3)),\n",
        "  layers.Conv2D(16, 3, padding='same', activation='relu'),\n",
        "  layers.MaxPooling2D(),\n",
        "  layers.Conv2D(32, 3, padding='same', activation='relu'),\n",
        "  layers.MaxPooling2D(),\n",
        "  layers.Conv2D(64, 3, padding='same', activation='relu'),\n",
        "  layers.MaxPooling2D(),\n",
        "  layers.Flatten(),\n",
        "  layers.Dense(128, activation='relu'),\n",
        "  layers.Dense(num_classes)\n",
        "])"
      ],
      "execution_count": 10,
      "outputs": []
    },
    {
      "cell_type": "code",
      "metadata": {
        "scrolled": true,
        "id": "T5PFU_NBS4wJ"
      },
      "source": [
        "model.compile(optimizer='RMSprop',\n",
        "              loss='sparse_categorical_crossentropy',\n",
        "              metrics=['accuracy'])"
      ],
      "execution_count": 19,
      "outputs": []
    },
    {
      "cell_type": "code",
      "metadata": {
        "colab": {
          "base_uri": "https://localhost:8080/"
        },
        "id": "6PRzOelOS4wK",
        "outputId": "c403c4df-c800-4fd1-86e6-b104e59f4e32"
      },
      "source": [
        "model.summary()"
      ],
      "execution_count": 12,
      "outputs": [
        {
          "output_type": "stream",
          "text": [
            "Model: \"sequential\"\n",
            "_________________________________________________________________\n",
            "Layer (type)                 Output Shape              Param #   \n",
            "=================================================================\n",
            "rescaling (Rescaling)        (None, 200, 200, 3)       0         \n",
            "_________________________________________________________________\n",
            "conv2d (Conv2D)              (None, 200, 200, 16)      448       \n",
            "_________________________________________________________________\n",
            "max_pooling2d (MaxPooling2D) (None, 100, 100, 16)      0         \n",
            "_________________________________________________________________\n",
            "conv2d_1 (Conv2D)            (None, 100, 100, 32)      4640      \n",
            "_________________________________________________________________\n",
            "max_pooling2d_1 (MaxPooling2 (None, 50, 50, 32)        0         \n",
            "_________________________________________________________________\n",
            "conv2d_2 (Conv2D)            (None, 50, 50, 64)        18496     \n",
            "_________________________________________________________________\n",
            "max_pooling2d_2 (MaxPooling2 (None, 25, 25, 64)        0         \n",
            "_________________________________________________________________\n",
            "flatten (Flatten)            (None, 40000)             0         \n",
            "_________________________________________________________________\n",
            "dense (Dense)                (None, 128)               5120128   \n",
            "_________________________________________________________________\n",
            "dense_1 (Dense)              (None, 6)                 774       \n",
            "=================================================================\n",
            "Total params: 5,144,486\n",
            "Trainable params: 5,144,486\n",
            "Non-trainable params: 0\n",
            "_________________________________________________________________\n"
          ],
          "name": "stdout"
        }
      ]
    },
    {
      "cell_type": "code",
      "metadata": {
        "colab": {
          "base_uri": "https://localhost:8080/"
        },
        "id": "qrDv7H-kS4wK",
        "outputId": "c3eaef67-8637-4cb6-c6d2-f53e7e834d30"
      },
      "source": [
        "epochs = 100\n",
        "history = model.fit(\n",
        "  train_ds,\n",
        "  validation_data=val_ds,\n",
        "  epochs = epochs\n",
        ")"
      ],
      "execution_count": 20,
      "outputs": [
        {
          "output_type": "stream",
          "text": [
            "Epoch 1/100\n",
            "107/107 [==============================] - 1s 9ms/step - loss: 1.7918 - accuracy: 0.1697 - val_loss: 1.7918 - val_accuracy: 0.2203\n",
            "Epoch 2/100\n",
            "107/107 [==============================] - 1s 7ms/step - loss: 1.7918 - accuracy: 0.1925 - val_loss: 1.7918 - val_accuracy: 0.2203\n",
            "Epoch 3/100\n",
            "107/107 [==============================] - 1s 7ms/step - loss: 1.7918 - accuracy: 0.1772 - val_loss: 1.7918 - val_accuracy: 0.2203\n",
            "Epoch 4/100\n",
            "107/107 [==============================] - 1s 7ms/step - loss: 1.7918 - accuracy: 0.1394 - val_loss: 1.7918 - val_accuracy: 0.2203\n",
            "Epoch 5/100\n",
            "107/107 [==============================] - 1s 7ms/step - loss: 1.7918 - accuracy: 0.1578 - val_loss: 1.7918 - val_accuracy: 0.2203\n",
            "Epoch 6/100\n",
            "107/107 [==============================] - 1s 7ms/step - loss: 1.7918 - accuracy: 0.1693 - val_loss: 1.7918 - val_accuracy: 0.2203\n",
            "Epoch 7/100\n",
            "107/107 [==============================] - 1s 7ms/step - loss: 1.7918 - accuracy: 0.1517 - val_loss: 1.7918 - val_accuracy: 0.2203\n",
            "Epoch 8/100\n",
            "107/107 [==============================] - 1s 7ms/step - loss: 1.7918 - accuracy: 0.1696 - val_loss: 1.7918 - val_accuracy: 0.2203\n",
            "Epoch 9/100\n",
            "107/107 [==============================] - 1s 8ms/step - loss: 1.7918 - accuracy: 0.1599 - val_loss: 1.7918 - val_accuracy: 0.2203\n",
            "Epoch 10/100\n",
            "107/107 [==============================] - 1s 7ms/step - loss: 1.7918 - accuracy: 0.1708 - val_loss: 1.7918 - val_accuracy: 0.2203\n",
            "Epoch 11/100\n",
            "107/107 [==============================] - 1s 7ms/step - loss: 1.7918 - accuracy: 0.2062 - val_loss: 1.7918 - val_accuracy: 0.2203\n",
            "Epoch 12/100\n",
            "107/107 [==============================] - 1s 7ms/step - loss: 1.7918 - accuracy: 0.1751 - val_loss: 1.7918 - val_accuracy: 0.2203\n",
            "Epoch 13/100\n",
            "107/107 [==============================] - 1s 7ms/step - loss: 1.7918 - accuracy: 0.1744 - val_loss: 1.7918 - val_accuracy: 0.2203\n",
            "Epoch 14/100\n",
            "107/107 [==============================] - 1s 7ms/step - loss: 1.7918 - accuracy: 0.1716 - val_loss: 1.7918 - val_accuracy: 0.2203\n",
            "Epoch 15/100\n",
            "107/107 [==============================] - 1s 7ms/step - loss: 1.7918 - accuracy: 0.1659 - val_loss: 1.7918 - val_accuracy: 0.2203\n",
            "Epoch 16/100\n",
            "107/107 [==============================] - 1s 7ms/step - loss: 1.7918 - accuracy: 0.1585 - val_loss: 1.7918 - val_accuracy: 0.2203\n",
            "Epoch 17/100\n",
            "107/107 [==============================] - 1s 7ms/step - loss: 1.7918 - accuracy: 0.1392 - val_loss: 1.7918 - val_accuracy: 0.2203\n",
            "Epoch 18/100\n",
            "107/107 [==============================] - 1s 7ms/step - loss: 1.7918 - accuracy: 0.1861 - val_loss: 1.7918 - val_accuracy: 0.2203\n",
            "Epoch 19/100\n",
            "107/107 [==============================] - 1s 7ms/step - loss: 1.7918 - accuracy: 0.1722 - val_loss: 1.7918 - val_accuracy: 0.2203\n",
            "Epoch 20/100\n",
            "107/107 [==============================] - 1s 7ms/step - loss: 1.7918 - accuracy: 0.1708 - val_loss: 1.7918 - val_accuracy: 0.2203\n",
            "Epoch 21/100\n",
            "107/107 [==============================] - 1s 7ms/step - loss: 1.7918 - accuracy: 0.1539 - val_loss: 1.7918 - val_accuracy: 0.2203\n",
            "Epoch 22/100\n",
            "107/107 [==============================] - 1s 7ms/step - loss: 1.7918 - accuracy: 0.1727 - val_loss: 1.7918 - val_accuracy: 0.2203\n",
            "Epoch 23/100\n",
            "107/107 [==============================] - 1s 7ms/step - loss: 1.7918 - accuracy: 0.1688 - val_loss: 1.7918 - val_accuracy: 0.2203\n",
            "Epoch 24/100\n",
            "107/107 [==============================] - 1s 7ms/step - loss: 1.7918 - accuracy: 0.1590 - val_loss: 1.7918 - val_accuracy: 0.2203\n",
            "Epoch 25/100\n",
            "107/107 [==============================] - 1s 7ms/step - loss: 1.7918 - accuracy: 0.1816 - val_loss: 1.7918 - val_accuracy: 0.2203\n",
            "Epoch 26/100\n",
            "107/107 [==============================] - 1s 7ms/step - loss: 1.7918 - accuracy: 0.1743 - val_loss: 1.7918 - val_accuracy: 0.2203\n",
            "Epoch 27/100\n",
            "107/107 [==============================] - 1s 7ms/step - loss: 1.7918 - accuracy: 0.1486 - val_loss: 1.7918 - val_accuracy: 0.2203\n",
            "Epoch 28/100\n",
            "107/107 [==============================] - 1s 7ms/step - loss: 1.7918 - accuracy: 0.1638 - val_loss: 1.7918 - val_accuracy: 0.2203\n",
            "Epoch 29/100\n",
            "107/107 [==============================] - 1s 7ms/step - loss: 1.7918 - accuracy: 0.1728 - val_loss: 1.7918 - val_accuracy: 0.2203\n",
            "Epoch 30/100\n",
            "107/107 [==============================] - 1s 7ms/step - loss: 1.7918 - accuracy: 0.1501 - val_loss: 1.7918 - val_accuracy: 0.2203\n",
            "Epoch 31/100\n",
            "107/107 [==============================] - 1s 7ms/step - loss: 1.7918 - accuracy: 0.1473 - val_loss: 1.7918 - val_accuracy: 0.2203\n",
            "Epoch 32/100\n",
            "107/107 [==============================] - 1s 7ms/step - loss: 1.7918 - accuracy: 0.1581 - val_loss: 1.7918 - val_accuracy: 0.2203\n",
            "Epoch 33/100\n",
            "107/107 [==============================] - 1s 7ms/step - loss: 1.7918 - accuracy: 0.1562 - val_loss: 1.7918 - val_accuracy: 0.2203\n",
            "Epoch 34/100\n",
            "107/107 [==============================] - 1s 7ms/step - loss: 1.7918 - accuracy: 0.1683 - val_loss: 1.7918 - val_accuracy: 0.2203\n",
            "Epoch 35/100\n",
            "107/107 [==============================] - 1s 7ms/step - loss: 1.7918 - accuracy: 0.1785 - val_loss: 1.7918 - val_accuracy: 0.2203\n",
            "Epoch 36/100\n",
            "107/107 [==============================] - 1s 7ms/step - loss: 1.7918 - accuracy: 0.1693 - val_loss: 1.7918 - val_accuracy: 0.2203\n",
            "Epoch 37/100\n",
            "107/107 [==============================] - 1s 7ms/step - loss: 1.7918 - accuracy: 0.1769 - val_loss: 1.7918 - val_accuracy: 0.2203\n",
            "Epoch 38/100\n",
            "107/107 [==============================] - 1s 7ms/step - loss: 1.7918 - accuracy: 0.1675 - val_loss: 1.7918 - val_accuracy: 0.2203\n",
            "Epoch 39/100\n",
            "107/107 [==============================] - 1s 7ms/step - loss: 1.7918 - accuracy: 0.1883 - val_loss: 1.7918 - val_accuracy: 0.2203\n",
            "Epoch 40/100\n",
            "107/107 [==============================] - 1s 7ms/step - loss: 1.7918 - accuracy: 0.1719 - val_loss: 1.7918 - val_accuracy: 0.2203\n",
            "Epoch 41/100\n",
            "107/107 [==============================] - 1s 7ms/step - loss: 1.7918 - accuracy: 0.1551 - val_loss: 1.7918 - val_accuracy: 0.2203\n",
            "Epoch 42/100\n",
            "107/107 [==============================] - 1s 7ms/step - loss: 1.7918 - accuracy: 0.1711 - val_loss: 1.7918 - val_accuracy: 0.2203\n",
            "Epoch 43/100\n",
            "107/107 [==============================] - 1s 7ms/step - loss: 1.7918 - accuracy: 0.1673 - val_loss: 1.7918 - val_accuracy: 0.2203\n",
            "Epoch 44/100\n",
            "107/107 [==============================] - 1s 7ms/step - loss: 1.7918 - accuracy: 0.1884 - val_loss: 1.7918 - val_accuracy: 0.2203\n",
            "Epoch 45/100\n",
            "107/107 [==============================] - 1s 7ms/step - loss: 1.7918 - accuracy: 0.2002 - val_loss: 1.7918 - val_accuracy: 0.2203\n",
            "Epoch 46/100\n",
            "107/107 [==============================] - 1s 7ms/step - loss: 1.7918 - accuracy: 0.1662 - val_loss: 1.7918 - val_accuracy: 0.2203\n",
            "Epoch 47/100\n",
            "107/107 [==============================] - 1s 7ms/step - loss: 1.7918 - accuracy: 0.1589 - val_loss: 1.7918 - val_accuracy: 0.2203\n",
            "Epoch 48/100\n",
            "107/107 [==============================] - 1s 7ms/step - loss: 1.7918 - accuracy: 0.1514 - val_loss: 1.7918 - val_accuracy: 0.2203\n",
            "Epoch 49/100\n",
            "107/107 [==============================] - 1s 7ms/step - loss: 1.7918 - accuracy: 0.1711 - val_loss: 1.7918 - val_accuracy: 0.2203\n",
            "Epoch 50/100\n",
            "107/107 [==============================] - 1s 7ms/step - loss: 1.7918 - accuracy: 0.1750 - val_loss: 1.7918 - val_accuracy: 0.2203\n",
            "Epoch 51/100\n",
            "107/107 [==============================] - 1s 7ms/step - loss: 1.7918 - accuracy: 0.1434 - val_loss: 1.7918 - val_accuracy: 0.2203\n",
            "Epoch 52/100\n",
            "107/107 [==============================] - 1s 7ms/step - loss: 1.7918 - accuracy: 0.1555 - val_loss: 1.7918 - val_accuracy: 0.2203\n",
            "Epoch 53/100\n",
            "107/107 [==============================] - 1s 7ms/step - loss: 1.7918 - accuracy: 0.1816 - val_loss: 1.7918 - val_accuracy: 0.2203\n",
            "Epoch 54/100\n",
            "107/107 [==============================] - 1s 7ms/step - loss: 1.7918 - accuracy: 0.1684 - val_loss: 1.7918 - val_accuracy: 0.2203\n",
            "Epoch 55/100\n",
            "107/107 [==============================] - 1s 7ms/step - loss: 1.7918 - accuracy: 0.1601 - val_loss: 1.7918 - val_accuracy: 0.2203\n",
            "Epoch 56/100\n",
            "107/107 [==============================] - 1s 7ms/step - loss: 1.7918 - accuracy: 0.1672 - val_loss: 1.7918 - val_accuracy: 0.2203\n",
            "Epoch 57/100\n",
            "107/107 [==============================] - 1s 7ms/step - loss: 1.7918 - accuracy: 0.1741 - val_loss: 1.7918 - val_accuracy: 0.2203\n",
            "Epoch 58/100\n",
            "107/107 [==============================] - 1s 7ms/step - loss: 1.7918 - accuracy: 0.1688 - val_loss: 1.7918 - val_accuracy: 0.2203\n",
            "Epoch 59/100\n",
            "107/107 [==============================] - 1s 7ms/step - loss: 1.7918 - accuracy: 0.1499 - val_loss: 1.7918 - val_accuracy: 0.2203\n",
            "Epoch 60/100\n",
            "107/107 [==============================] - 1s 7ms/step - loss: 1.7918 - accuracy: 0.1754 - val_loss: 1.7918 - val_accuracy: 0.2203\n",
            "Epoch 61/100\n",
            "107/107 [==============================] - 1s 8ms/step - loss: 1.7918 - accuracy: 0.1784 - val_loss: 1.7918 - val_accuracy: 0.2203\n",
            "Epoch 62/100\n",
            "107/107 [==============================] - 1s 7ms/step - loss: 1.7918 - accuracy: 0.1760 - val_loss: 1.7918 - val_accuracy: 0.2203\n",
            "Epoch 63/100\n",
            "107/107 [==============================] - 1s 7ms/step - loss: 1.7918 - accuracy: 0.1678 - val_loss: 1.7918 - val_accuracy: 0.2203\n",
            "Epoch 64/100\n",
            "107/107 [==============================] - 1s 7ms/step - loss: 1.7918 - accuracy: 0.1831 - val_loss: 1.7918 - val_accuracy: 0.2203\n",
            "Epoch 65/100\n",
            "107/107 [==============================] - 1s 7ms/step - loss: 1.7918 - accuracy: 0.1691 - val_loss: 1.7918 - val_accuracy: 0.2203\n",
            "Epoch 66/100\n",
            "107/107 [==============================] - 1s 7ms/step - loss: 1.7918 - accuracy: 0.1532 - val_loss: 1.7918 - val_accuracy: 0.2203\n",
            "Epoch 67/100\n",
            "107/107 [==============================] - 1s 7ms/step - loss: 1.7918 - accuracy: 0.1903 - val_loss: 1.7918 - val_accuracy: 0.2203\n",
            "Epoch 68/100\n",
            "107/107 [==============================] - 1s 7ms/step - loss: 1.7918 - accuracy: 0.1864 - val_loss: 1.7918 - val_accuracy: 0.2203\n",
            "Epoch 69/100\n",
            "107/107 [==============================] - 1s 7ms/step - loss: 1.7918 - accuracy: 0.1730 - val_loss: 1.7918 - val_accuracy: 0.2203\n",
            "Epoch 70/100\n",
            "107/107 [==============================] - 1s 7ms/step - loss: 1.7918 - accuracy: 0.1758 - val_loss: 1.7918 - val_accuracy: 0.2203\n",
            "Epoch 71/100\n",
            "107/107 [==============================] - 1s 7ms/step - loss: 1.7918 - accuracy: 0.1509 - val_loss: 1.7918 - val_accuracy: 0.2203\n",
            "Epoch 72/100\n",
            "107/107 [==============================] - 1s 7ms/step - loss: 1.7918 - accuracy: 0.1529 - val_loss: 1.7918 - val_accuracy: 0.2203\n",
            "Epoch 73/100\n",
            "107/107 [==============================] - 1s 7ms/step - loss: 1.7918 - accuracy: 0.1676 - val_loss: 1.7918 - val_accuracy: 0.2203\n",
            "Epoch 74/100\n",
            "107/107 [==============================] - 1s 7ms/step - loss: 1.7918 - accuracy: 0.1732 - val_loss: 1.7918 - val_accuracy: 0.2203\n",
            "Epoch 75/100\n",
            "107/107 [==============================] - 1s 7ms/step - loss: 1.7918 - accuracy: 0.1479 - val_loss: 1.7918 - val_accuracy: 0.2203\n",
            "Epoch 76/100\n",
            "107/107 [==============================] - 1s 7ms/step - loss: 1.7918 - accuracy: 0.1639 - val_loss: 1.7918 - val_accuracy: 0.2203\n",
            "Epoch 77/100\n",
            "107/107 [==============================] - 1s 7ms/step - loss: 1.7918 - accuracy: 0.1741 - val_loss: 1.7918 - val_accuracy: 0.2203\n",
            "Epoch 78/100\n",
            "107/107 [==============================] - 1s 7ms/step - loss: 1.7918 - accuracy: 0.1580 - val_loss: 1.7918 - val_accuracy: 0.2203\n",
            "Epoch 79/100\n",
            "107/107 [==============================] - 1s 7ms/step - loss: 1.7918 - accuracy: 0.1608 - val_loss: 1.7918 - val_accuracy: 0.2203\n",
            "Epoch 80/100\n",
            "107/107 [==============================] - 1s 7ms/step - loss: 1.7918 - accuracy: 0.1761 - val_loss: 1.7918 - val_accuracy: 0.2203\n",
            "Epoch 81/100\n",
            "107/107 [==============================] - 1s 7ms/step - loss: 1.7918 - accuracy: 0.1559 - val_loss: 1.7918 - val_accuracy: 0.2203\n",
            "Epoch 82/100\n",
            "107/107 [==============================] - 1s 7ms/step - loss: 1.7918 - accuracy: 0.1846 - val_loss: 1.7918 - val_accuracy: 0.2203\n",
            "Epoch 83/100\n",
            "107/107 [==============================] - 1s 7ms/step - loss: 1.7918 - accuracy: 0.1493 - val_loss: 1.7918 - val_accuracy: 0.2203\n",
            "Epoch 84/100\n",
            "107/107 [==============================] - 1s 7ms/step - loss: 1.7918 - accuracy: 0.1681 - val_loss: 1.7918 - val_accuracy: 0.2203\n",
            "Epoch 85/100\n",
            "107/107 [==============================] - 1s 7ms/step - loss: 1.7918 - accuracy: 0.1805 - val_loss: 1.7918 - val_accuracy: 0.2203\n",
            "Epoch 86/100\n",
            "107/107 [==============================] - 1s 7ms/step - loss: 1.7918 - accuracy: 0.1730 - val_loss: 1.7918 - val_accuracy: 0.2203\n",
            "Epoch 87/100\n",
            "107/107 [==============================] - 1s 7ms/step - loss: 1.7918 - accuracy: 0.1656 - val_loss: 1.7918 - val_accuracy: 0.2203\n",
            "Epoch 88/100\n",
            "107/107 [==============================] - 1s 7ms/step - loss: 1.7918 - accuracy: 0.1842 - val_loss: 1.7918 - val_accuracy: 0.2203\n",
            "Epoch 89/100\n",
            "107/107 [==============================] - 1s 7ms/step - loss: 1.7918 - accuracy: 0.1729 - val_loss: 1.7918 - val_accuracy: 0.2203\n",
            "Epoch 90/100\n",
            "107/107 [==============================] - 1s 7ms/step - loss: 1.7918 - accuracy: 0.2116 - val_loss: 1.7918 - val_accuracy: 0.2203\n",
            "Epoch 91/100\n",
            "107/107 [==============================] - 1s 7ms/step - loss: 1.7918 - accuracy: 0.1871 - val_loss: 1.7918 - val_accuracy: 0.2203\n",
            "Epoch 92/100\n",
            "107/107 [==============================] - 1s 7ms/step - loss: 1.7918 - accuracy: 0.1963 - val_loss: 1.7918 - val_accuracy: 0.2203\n",
            "Epoch 93/100\n",
            "107/107 [==============================] - 1s 7ms/step - loss: 1.7918 - accuracy: 0.1705 - val_loss: 1.7918 - val_accuracy: 0.2203\n",
            "Epoch 94/100\n",
            "107/107 [==============================] - 1s 7ms/step - loss: 1.7918 - accuracy: 0.1817 - val_loss: 1.7918 - val_accuracy: 0.2203\n",
            "Epoch 95/100\n",
            "107/107 [==============================] - 1s 7ms/step - loss: 1.7918 - accuracy: 0.1778 - val_loss: 1.7918 - val_accuracy: 0.2203\n",
            "Epoch 96/100\n",
            "107/107 [==============================] - 1s 7ms/step - loss: 1.7918 - accuracy: 0.1501 - val_loss: 1.7918 - val_accuracy: 0.2203\n",
            "Epoch 97/100\n",
            "107/107 [==============================] - 1s 7ms/step - loss: 1.7918 - accuracy: 0.1837 - val_loss: 1.7918 - val_accuracy: 0.2203\n",
            "Epoch 98/100\n",
            "107/107 [==============================] - 1s 7ms/step - loss: 1.7918 - accuracy: 0.1714 - val_loss: 1.7918 - val_accuracy: 0.2203\n",
            "Epoch 99/100\n",
            "107/107 [==============================] - 1s 7ms/step - loss: 1.7918 - accuracy: 0.1751 - val_loss: 1.7918 - val_accuracy: 0.2203\n",
            "Epoch 100/100\n",
            "107/107 [==============================] - 1s 7ms/step - loss: 1.7918 - accuracy: 0.1897 - val_loss: 1.7918 - val_accuracy: 0.2203\n"
          ],
          "name": "stdout"
        }
      ]
    },
    {
      "cell_type": "code",
      "metadata": {
        "id": "f5ZVOcDt6nZ3"
      },
      "source": [
        ""
      ],
      "execution_count": 13,
      "outputs": []
    },
    {
      "cell_type": "code",
      "metadata": {
        "id": "YxflccgrS4wK"
      },
      "source": [
        "keras_file = \"model.h5\"\r\n",
        "keras.models.save_model(model, keras_file)"
      ],
      "execution_count": 14,
      "outputs": []
    },
    {
      "cell_type": "code",
      "metadata": {
        "colab": {
          "base_uri": "https://localhost:8080/"
        },
        "id": "cXv23OPZuOM9",
        "outputId": "69ca3708-b064-41fa-8547-4c55cff7118f"
      },
      "source": [
        "converter = tf.lite.TFLiteConverter.from_keras_model(model)\r\n",
        "tflite_model = converter.convert()\r\n",
        "\r\n",
        "with open('model.tflite', 'wb') as f:\r\n",
        "  f.write(tflite_model)"
      ],
      "execution_count": 15,
      "outputs": [
        {
          "output_type": "stream",
          "text": [
            "INFO:tensorflow:Assets written to: /tmp/tmptfnxuqj_/assets\n"
          ],
          "name": "stdout"
        }
      ]
    },
    {
      "cell_type": "code",
      "metadata": {
        "colab": {
          "base_uri": "https://localhost:8080/"
        },
        "id": "ws9nLJf_xQK9",
        "outputId": "02612a4d-1e81-4ae5-8a48-38cdf94363ea"
      },
      "source": [
        "from google.colab import drive\n",
        "drive.mount('/content/drive')"
      ],
      "execution_count": 16,
      "outputs": [
        {
          "output_type": "stream",
          "text": [
            "Drive already mounted at /content/drive; to attempt to forcibly remount, call drive.mount(\"/content/drive\", force_remount=True).\n"
          ],
          "name": "stdout"
        }
      ]
    }
  ]
}