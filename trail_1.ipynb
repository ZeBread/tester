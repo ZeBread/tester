{
  "nbformat": 4,
  "nbformat_minor": 0,
  "metadata": {
    "kernelspec": {
      "display_name": "Python 3",
      "language": "python",
      "name": "python3"
    },
    "language_info": {
      "codemirror_mode": {
        "name": "ipython",
        "version": 3
      },
      "file_extension": ".py",
      "mimetype": "text/x-python",
      "name": "python",
      "nbconvert_exporter": "python",
      "pygments_lexer": "ipython3",
      "version": "3.7.6"
    },
    "colab": {
      "name": "trail 1.ipynb",
      "provenance": [],
      "include_colab_link": true
    },
    "accelerator": "GPU"
  },
  "cells": [
    {
      "cell_type": "markdown",
      "metadata": {
        "id": "view-in-github",
        "colab_type": "text"
      },
      "source": [
        "<a href=\"https://colab.research.google.com/github/ZeBread/tester/blob/main/trail_1.ipynb\" target=\"_parent\"><img src=\"https://colab.research.google.com/assets/colab-badge.svg\" alt=\"Open In Colab\"/></a>"
      ]
    },
    {
      "cell_type": "code",
      "metadata": {
        "id": "xSRV632US4wB"
      },
      "source": [
        "#PACKAGES\n",
        "import tensorflow as tf\n",
        "import matplotlib.pyplot as plt\n",
        "import cv2\n",
        "import os\n",
        "import numpy as np\n",
        "from tensorflow.keras.preprocessing.image import ImageDataGenerator\n",
        "from tensorflow.keras.preprocessing import image\n",
        "from tensorflow.keras.optimizers import RMSprop\n",
        "from tensorflow import keras\n",
        "from tensorflow.keras import layers\n",
        "from tensorflow.keras.models import Sequential"
      ],
      "execution_count": null,
      "outputs": []
    },
    {
      "cell_type": "code",
      "metadata": {
        "colab": {
          "base_uri": "https://localhost:8080/"
        },
        "id": "wNdUMIlETLxv",
        "outputId": "752568f3-1a91-4be8-c87e-41f563a42980"
      },
      "source": [
        "#DRIVE LINKING\r\n",
        "from google.colab import drive\r\n",
        "drive.mount('/content/drive/')"
      ],
      "execution_count": null,
      "outputs": [
        {
          "output_type": "stream",
          "text": [
            "Drive already mounted at /content/drive/; to attempt to forcibly remount, call drive.mount(\"/content/drive/\", force_remount=True).\n"
          ],
          "name": "stdout"
        }
      ]
    },
    {
      "cell_type": "code",
      "metadata": {
        "id": "MWrMX6acWRS8"
      },
      "source": [
        "#DATA DIRECTORY LINKING\r\n",
        "DATADIR = \"/content/drive/MyDrive/train_200px\"\r\n",
        "CATEGORIES = [\"FH\",\"MC\",\"MH\",\"NL\",\"OH\",\"VC\"]"
      ],
      "execution_count": null,
      "outputs": []
    },
    {
      "cell_type": "markdown",
      "metadata": {
        "id": "QsXvlrgrW9S_"
      },
      "source": [
        "CREATING DATASET"
      ]
    },
    {
      "cell_type": "code",
      "metadata": {
        "id": "8g6QMZ-dcFVK"
      },
      "source": [
        "batch_size = 16\r\n",
        "img_height = 200\r\n",
        "img_width = 200"
      ],
      "execution_count": null,
      "outputs": []
    },
    {
      "cell_type": "code",
      "metadata": {
        "colab": {
          "base_uri": "https://localhost:8080/"
        },
        "id": "7eOjZnkwcQey",
        "outputId": "1fe2e14a-4e37-476f-aa6d-1b01c49f3776"
      },
      "source": [
        "train_ds = tf.keras.preprocessing.image_dataset_from_directory(\r\n",
        "  DATADIR,\r\n",
        "  validation_split=0.1,\r\n",
        "  subset=\"training\",\r\n",
        "  seed=123,\r\n",
        "  image_size=(img_height, img_width),\r\n",
        "  batch_size=batch_size)"
      ],
      "execution_count": null,
      "outputs": [
        {
          "output_type": "stream",
          "text": [
            "Found 592 files belonging to 6 classes.\n",
            "Using 533 files for training.\n"
          ],
          "name": "stdout"
        }
      ]
    },
    {
      "cell_type": "code",
      "metadata": {
        "colab": {
          "base_uri": "https://localhost:8080/"
        },
        "id": "COPyKeVhcigR",
        "outputId": "b83c394f-39ac-4cd5-f8ee-4538a06eb911"
      },
      "source": [
        "val_ds = tf.keras.preprocessing.image_dataset_from_directory(\r\n",
        "  DATADIR,\r\n",
        "  validation_split=0.1,\r\n",
        "  subset=\"validation\",\r\n",
        "  seed=123,\r\n",
        "  image_size=(img_height, img_width),\r\n",
        "  batch_size=batch_size)"
      ],
      "execution_count": null,
      "outputs": [
        {
          "output_type": "stream",
          "text": [
            "Found 592 files belonging to 6 classes.\n",
            "Using 59 files for validation.\n"
          ],
          "name": "stdout"
        }
      ]
    },
    {
      "cell_type": "code",
      "metadata": {
        "colab": {
          "base_uri": "https://localhost:8080/"
        },
        "id": "s7I3sbS_cp0Z",
        "outputId": "26e9bb8e-2ee5-4ff1-b91d-ceb79ba092da"
      },
      "source": [
        "class_names = train_ds.class_names\r\n",
        "print(class_names)"
      ],
      "execution_count": null,
      "outputs": [
        {
          "output_type": "stream",
          "text": [
            "['FH_200px', 'MC_200px', 'MH_200px', 'NL_200px', 'OH_200px', 'VC_200px']\n"
          ],
          "name": "stdout"
        }
      ]
    },
    {
      "cell_type": "markdown",
      "metadata": {
        "id": "pBAhhaBBc1ap"
      },
      "source": [
        "VISUALISE DATA"
      ]
    },
    {
      "cell_type": "code",
      "metadata": {
        "colab": {
          "base_uri": "https://localhost:8080/"
        },
        "id": "d-UprlE1c7XO",
        "outputId": "721a4c4e-d16c-497d-ab8f-49e32f913682"
      },
      "source": [
        "for image_batch, labels_batch in train_ds:\r\n",
        "  print(image_batch.shape)\r\n",
        "  print(labels_batch.shape)\r\n",
        "  break"
      ],
      "execution_count": null,
      "outputs": [
        {
          "output_type": "stream",
          "text": [
            "(16, 200, 200, 3)\n",
            "(16,)\n"
          ],
          "name": "stdout"
        }
      ]
    },
    {
      "cell_type": "markdown",
      "metadata": {
        "id": "x694E7w2dRxt"
      },
      "source": [
        "Configure the dataset for performance"
      ]
    },
    {
      "cell_type": "code",
      "metadata": {
        "id": "btNHtZ-UdVGB"
      },
      "source": [
        "AUTOTUNE = tf.data.AUTOTUNE\r\n",
        "\r\n",
        "train_ds = train_ds.cache().shuffle(50).prefetch(buffer_size=AUTOTUNE)\r\n",
        "val_ds = val_ds.cache().prefetch(buffer_size=AUTOTUNE)"
      ],
      "execution_count": null,
      "outputs": []
    },
    {
      "cell_type": "markdown",
      "metadata": {
        "id": "U-uftaMgddzZ"
      },
      "source": [
        "Standardize the data"
      ]
    },
    {
      "cell_type": "markdown",
      "metadata": {
        "id": "Op6EsVgyd2Mq"
      },
      "source": [
        "CREATE MODEL"
      ]
    },
    {
      "cell_type": "code",
      "metadata": {
        "id": "PQnu8QsFS4wJ"
      },
      "source": [
        "num_classes = 6\n",
        "\n",
        "model = Sequential([\n",
        "  layers.experimental.preprocessing.Rescaling(1./255, input_shape=(img_height, img_width, 3)),\n",
        "  layers.Conv2D(16, 3, padding='same', activation='relu'),\n",
        "  layers.MaxPooling2D(),\n",
        "  layers.Conv2D(32, 3, padding='same', activation='relu'),\n",
        "  layers.MaxPooling2D(),\n",
        "  layers.Conv2D(64, 3, padding='same', activation='relu'),\n",
        "  layers.MaxPooling2D(),\n",
        "  layers.Flatten(),\n",
        "  layers.Dense(128, activation='relu'),\n",
        "  layers.Dense(num_classes)\n",
        "])"
      ],
      "execution_count": null,
      "outputs": []
    },
    {
      "cell_type": "code",
      "metadata": {
        "scrolled": true,
        "id": "T5PFU_NBS4wJ"
      },
      "source": [
        "model.compile(optimizer='adam',\n",
        "              loss='sparse_categorical_crossentropy',\n",
        "              metrics=['accuracy'])"
      ],
      "execution_count": null,
      "outputs": []
    },
    {
      "cell_type": "code",
      "metadata": {
        "colab": {
          "base_uri": "https://localhost:8080/"
        },
        "id": "6PRzOelOS4wK",
        "outputId": "36cdf102-a7aa-44a2-e0a4-b27f97af6d4b"
      },
      "source": [
        "model.summary()"
      ],
      "execution_count": null,
      "outputs": [
        {
          "output_type": "stream",
          "text": [
            "Model: \"sequential_8\"\n",
            "_________________________________________________________________\n",
            "Layer (type)                 Output Shape              Param #   \n",
            "=================================================================\n",
            "rescaling_8 (Rescaling)      (None, 200, 200, 3)       0         \n",
            "_________________________________________________________________\n",
            "conv2d_24 (Conv2D)           (None, 200, 200, 16)      448       \n",
            "_________________________________________________________________\n",
            "max_pooling2d_24 (MaxPooling (None, 100, 100, 16)      0         \n",
            "_________________________________________________________________\n",
            "conv2d_25 (Conv2D)           (None, 100, 100, 32)      4640      \n",
            "_________________________________________________________________\n",
            "max_pooling2d_25 (MaxPooling (None, 50, 50, 32)        0         \n",
            "_________________________________________________________________\n",
            "conv2d_26 (Conv2D)           (None, 50, 50, 64)        18496     \n",
            "_________________________________________________________________\n",
            "max_pooling2d_26 (MaxPooling (None, 25, 25, 64)        0         \n",
            "_________________________________________________________________\n",
            "flatten_8 (Flatten)          (None, 40000)             0         \n",
            "_________________________________________________________________\n",
            "dense_16 (Dense)             (None, 128)               5120128   \n",
            "_________________________________________________________________\n",
            "dense_17 (Dense)             (None, 6)                 774       \n",
            "=================================================================\n",
            "Total params: 5,144,486\n",
            "Trainable params: 5,144,486\n",
            "Non-trainable params: 0\n",
            "_________________________________________________________________\n"
          ],
          "name": "stdout"
        }
      ]
    },
    {
      "cell_type": "code",
      "metadata": {
        "colab": {
          "base_uri": "https://localhost:8080/"
        },
        "id": "qrDv7H-kS4wK",
        "outputId": "9d1e74ca-8a07-4301-94f6-05f0eb8077cd"
      },
      "source": [
        "epochs = 100\n",
        "history = model.fit(\n",
        "  train_ds,\n",
        "  validation_data=val_ds,\n",
        "  epochs = epochs\n",
        ")"
      ],
      "execution_count": null,
      "outputs": [
        {
          "output_type": "stream",
          "text": [
            "Epoch 1/100\n",
            "34/34 [==============================] - 2s 21ms/step - loss: 12.4598 - accuracy: 0.1594 - val_loss: 13.3862 - val_accuracy: 0.1695\n",
            "Epoch 2/100\n",
            "34/34 [==============================] - 0s 13ms/step - loss: 13.6422 - accuracy: 0.1536 - val_loss: 13.3862 - val_accuracy: 0.1695\n",
            "Epoch 3/100\n",
            "34/34 [==============================] - 0s 13ms/step - loss: 13.3090 - accuracy: 0.1743 - val_loss: 13.3862 - val_accuracy: 0.1695\n",
            "Epoch 4/100\n",
            "34/34 [==============================] - 0s 13ms/step - loss: 13.3567 - accuracy: 0.1713 - val_loss: 13.3862 - val_accuracy: 0.1695\n",
            "Epoch 5/100\n",
            "34/34 [==============================] - 0s 13ms/step - loss: 13.7262 - accuracy: 0.1484 - val_loss: 13.3862 - val_accuracy: 0.1695\n",
            "Epoch 6/100\n",
            "34/34 [==============================] - 0s 13ms/step - loss: 13.3099 - accuracy: 0.1742 - val_loss: 13.3862 - val_accuracy: 0.1695\n",
            "Epoch 7/100\n",
            "34/34 [==============================] - 0s 13ms/step - loss: 13.5147 - accuracy: 0.1615 - val_loss: 13.3862 - val_accuracy: 0.1695\n",
            "Epoch 8/100\n",
            "34/34 [==============================] - 0s 13ms/step - loss: 13.6205 - accuracy: 0.1550 - val_loss: 13.3862 - val_accuracy: 0.1695\n",
            "Epoch 9/100\n",
            "34/34 [==============================] - 0s 13ms/step - loss: 13.5134 - accuracy: 0.1616 - val_loss: 13.3862 - val_accuracy: 0.1695\n",
            "Epoch 10/100\n",
            "34/34 [==============================] - 0s 13ms/step - loss: 13.5684 - accuracy: 0.1582 - val_loss: 13.3862 - val_accuracy: 0.1695\n",
            "Epoch 11/100\n",
            "34/34 [==============================] - 0s 13ms/step - loss: 13.4382 - accuracy: 0.1663 - val_loss: 13.3862 - val_accuracy: 0.1695\n",
            "Epoch 12/100\n",
            "34/34 [==============================] - 0s 13ms/step - loss: 13.6267 - accuracy: 0.1546 - val_loss: 13.3862 - val_accuracy: 0.1695\n",
            "Epoch 13/100\n",
            "34/34 [==============================] - 1s 18ms/step - loss: 13.6442 - accuracy: 0.1535 - val_loss: 13.3862 - val_accuracy: 0.1695\n",
            "Epoch 14/100\n",
            "34/34 [==============================] - 0s 13ms/step - loss: 13.6961 - accuracy: 0.1503 - val_loss: 13.3862 - val_accuracy: 0.1695\n",
            "Epoch 15/100\n",
            "34/34 [==============================] - 0s 13ms/step - loss: 13.4211 - accuracy: 0.1673 - val_loss: 13.3862 - val_accuracy: 0.1695\n",
            "Epoch 16/100\n",
            "34/34 [==============================] - 0s 13ms/step - loss: 13.4352 - accuracy: 0.1665 - val_loss: 13.3862 - val_accuracy: 0.1695\n",
            "Epoch 17/100\n",
            "34/34 [==============================] - 0s 13ms/step - loss: 13.3947 - accuracy: 0.1690 - val_loss: 13.3862 - val_accuracy: 0.1695\n",
            "Epoch 18/100\n",
            "34/34 [==============================] - 0s 13ms/step - loss: 13.6960 - accuracy: 0.1503 - val_loss: 13.3862 - val_accuracy: 0.1695\n",
            "Epoch 19/100\n",
            "34/34 [==============================] - 0s 13ms/step - loss: 13.6684 - accuracy: 0.1520 - val_loss: 13.3862 - val_accuracy: 0.1695\n",
            "Epoch 20/100\n",
            "34/34 [==============================] - 0s 13ms/step - loss: 13.7577 - accuracy: 0.1464 - val_loss: 13.3862 - val_accuracy: 0.1695\n",
            "Epoch 21/100\n",
            "34/34 [==============================] - 0s 13ms/step - loss: 14.0261 - accuracy: 0.1298 - val_loss: 13.3862 - val_accuracy: 0.1695\n",
            "Epoch 22/100\n",
            "34/34 [==============================] - 0s 13ms/step - loss: 13.4900 - accuracy: 0.1631 - val_loss: 13.3862 - val_accuracy: 0.1695\n",
            "Epoch 23/100\n",
            "34/34 [==============================] - 0s 13ms/step - loss: 13.5151 - accuracy: 0.1615 - val_loss: 13.3862 - val_accuracy: 0.1695\n",
            "Epoch 24/100\n",
            "34/34 [==============================] - 0s 13ms/step - loss: 13.4337 - accuracy: 0.1665 - val_loss: 13.3862 - val_accuracy: 0.1695\n",
            "Epoch 25/100\n",
            "34/34 [==============================] - 0s 13ms/step - loss: 13.5091 - accuracy: 0.1619 - val_loss: 13.3862 - val_accuracy: 0.1695\n",
            "Epoch 26/100\n",
            "34/34 [==============================] - 0s 13ms/step - loss: 13.3900 - accuracy: 0.1693 - val_loss: 13.3862 - val_accuracy: 0.1695\n",
            "Epoch 27/100\n",
            "34/34 [==============================] - 0s 13ms/step - loss: 13.6799 - accuracy: 0.1513 - val_loss: 13.3862 - val_accuracy: 0.1695\n",
            "Epoch 28/100\n",
            "34/34 [==============================] - 0s 13ms/step - loss: 13.4053 - accuracy: 0.1683 - val_loss: 13.3862 - val_accuracy: 0.1695\n",
            "Epoch 29/100\n",
            "34/34 [==============================] - 0s 13ms/step - loss: 13.6186 - accuracy: 0.1551 - val_loss: 13.3862 - val_accuracy: 0.1695\n",
            "Epoch 30/100\n",
            "34/34 [==============================] - 0s 13ms/step - loss: 13.4727 - accuracy: 0.1641 - val_loss: 13.3862 - val_accuracy: 0.1695\n",
            "Epoch 31/100\n",
            "34/34 [==============================] - 0s 13ms/step - loss: 13.4754 - accuracy: 0.1640 - val_loss: 13.3862 - val_accuracy: 0.1695\n",
            "Epoch 32/100\n",
            "34/34 [==============================] - 0s 13ms/step - loss: 13.4775 - accuracy: 0.1638 - val_loss: 13.3862 - val_accuracy: 0.1695\n",
            "Epoch 33/100\n",
            "34/34 [==============================] - 0s 13ms/step - loss: 13.2520 - accuracy: 0.1778 - val_loss: 13.3862 - val_accuracy: 0.1695\n",
            "Epoch 34/100\n",
            "34/34 [==============================] - 0s 13ms/step - loss: 13.7086 - accuracy: 0.1495 - val_loss: 13.3862 - val_accuracy: 0.1695\n",
            "Epoch 35/100\n",
            "34/34 [==============================] - 0s 13ms/step - loss: 13.7927 - accuracy: 0.1443 - val_loss: 13.3862 - val_accuracy: 0.1695\n",
            "Epoch 36/100\n",
            "34/34 [==============================] - 0s 13ms/step - loss: 14.1077 - accuracy: 0.1247 - val_loss: 13.3862 - val_accuracy: 0.1695\n",
            "Epoch 37/100\n",
            "34/34 [==============================] - 0s 13ms/step - loss: 12.9903 - accuracy: 0.1941 - val_loss: 13.3862 - val_accuracy: 0.1695\n",
            "Epoch 38/100\n",
            "34/34 [==============================] - 0s 13ms/step - loss: 13.9305 - accuracy: 0.1357 - val_loss: 13.3862 - val_accuracy: 0.1695\n",
            "Epoch 39/100\n",
            "34/34 [==============================] - 0s 13ms/step - loss: 13.3985 - accuracy: 0.1687 - val_loss: 13.3862 - val_accuracy: 0.1695\n",
            "Epoch 40/100\n",
            "34/34 [==============================] - 0s 13ms/step - loss: 13.8668 - accuracy: 0.1397 - val_loss: 13.3862 - val_accuracy: 0.1695\n",
            "Epoch 41/100\n",
            "34/34 [==============================] - 0s 13ms/step - loss: 13.8033 - accuracy: 0.1436 - val_loss: 13.3862 - val_accuracy: 0.1695\n",
            "Epoch 42/100\n",
            "34/34 [==============================] - 0s 13ms/step - loss: 13.5155 - accuracy: 0.1615 - val_loss: 13.3862 - val_accuracy: 0.1695\n",
            "Epoch 43/100\n",
            "34/34 [==============================] - 0s 13ms/step - loss: 13.7046 - accuracy: 0.1497 - val_loss: 13.3862 - val_accuracy: 0.1695\n",
            "Epoch 44/100\n",
            "34/34 [==============================] - 0s 13ms/step - loss: 13.4754 - accuracy: 0.1640 - val_loss: 13.3862 - val_accuracy: 0.1695\n",
            "Epoch 45/100\n",
            "34/34 [==============================] - 0s 13ms/step - loss: 13.4545 - accuracy: 0.1653 - val_loss: 13.3862 - val_accuracy: 0.1695\n",
            "Epoch 46/100\n",
            "34/34 [==============================] - 0s 13ms/step - loss: 13.5339 - accuracy: 0.1603 - val_loss: 13.3862 - val_accuracy: 0.1695\n",
            "Epoch 47/100\n",
            "34/34 [==============================] - 0s 13ms/step - loss: 13.8859 - accuracy: 0.1385 - val_loss: 13.3862 - val_accuracy: 0.1695\n",
            "Epoch 48/100\n",
            "34/34 [==============================] - 0s 13ms/step - loss: 13.6944 - accuracy: 0.1504 - val_loss: 13.3862 - val_accuracy: 0.1695\n",
            "Epoch 49/100\n",
            "34/34 [==============================] - 0s 13ms/step - loss: 13.6311 - accuracy: 0.1543 - val_loss: 13.3862 - val_accuracy: 0.1695\n",
            "Epoch 50/100\n",
            "34/34 [==============================] - 0s 13ms/step - loss: 13.5002 - accuracy: 0.1624 - val_loss: 13.3862 - val_accuracy: 0.1695\n",
            "Epoch 51/100\n",
            "34/34 [==============================] - 0s 13ms/step - loss: 13.4010 - accuracy: 0.1686 - val_loss: 13.3862 - val_accuracy: 0.1695\n",
            "Epoch 52/100\n",
            "34/34 [==============================] - 0s 13ms/step - loss: 13.4183 - accuracy: 0.1675 - val_loss: 13.3862 - val_accuracy: 0.1695\n",
            "Epoch 53/100\n",
            "34/34 [==============================] - 0s 13ms/step - loss: 12.9321 - accuracy: 0.1977 - val_loss: 13.3862 - val_accuracy: 0.1695\n",
            "Epoch 54/100\n",
            "34/34 [==============================] - 0s 13ms/step - loss: 13.3301 - accuracy: 0.1730 - val_loss: 13.3862 - val_accuracy: 0.1695\n",
            "Epoch 55/100\n",
            "34/34 [==============================] - 1s 16ms/step - loss: 13.4960 - accuracy: 0.1627 - val_loss: 13.3862 - val_accuracy: 0.1695\n",
            "Epoch 56/100\n",
            "34/34 [==============================] - 0s 13ms/step - loss: 13.9120 - accuracy: 0.1369 - val_loss: 13.3862 - val_accuracy: 0.1695\n",
            "Epoch 57/100\n",
            "34/34 [==============================] - 0s 13ms/step - loss: 13.4937 - accuracy: 0.1628 - val_loss: 13.3862 - val_accuracy: 0.1695\n",
            "Epoch 58/100\n",
            "34/34 [==============================] - 0s 13ms/step - loss: 13.7688 - accuracy: 0.1458 - val_loss: 13.3862 - val_accuracy: 0.1695\n",
            "Epoch 59/100\n",
            "34/34 [==============================] - 0s 13ms/step - loss: 13.2732 - accuracy: 0.1765 - val_loss: 13.3862 - val_accuracy: 0.1695\n",
            "Epoch 60/100\n",
            "34/34 [==============================] - 0s 13ms/step - loss: 13.8333 - accuracy: 0.1418 - val_loss: 13.3862 - val_accuracy: 0.1695\n",
            "Epoch 61/100\n",
            "34/34 [==============================] - 0s 13ms/step - loss: 13.6361 - accuracy: 0.1540 - val_loss: 13.3862 - val_accuracy: 0.1695\n",
            "Epoch 62/100\n",
            "34/34 [==============================] - 0s 13ms/step - loss: 13.8746 - accuracy: 0.1392 - val_loss: 13.3862 - val_accuracy: 0.1695\n",
            "Epoch 63/100\n",
            "34/34 [==============================] - 0s 13ms/step - loss: 13.3809 - accuracy: 0.1698 - val_loss: 13.3862 - val_accuracy: 0.1695\n",
            "Epoch 64/100\n",
            "34/34 [==============================] - 0s 13ms/step - loss: 13.5529 - accuracy: 0.1591 - val_loss: 13.3862 - val_accuracy: 0.1695\n",
            "Epoch 65/100\n",
            "34/34 [==============================] - 0s 13ms/step - loss: 13.8514 - accuracy: 0.1406 - val_loss: 13.3862 - val_accuracy: 0.1695\n",
            "Epoch 66/100\n",
            "34/34 [==============================] - 0s 13ms/step - loss: 13.3535 - accuracy: 0.1715 - val_loss: 13.3862 - val_accuracy: 0.1695\n",
            "Epoch 67/100\n",
            "34/34 [==============================] - 0s 13ms/step - loss: 13.5956 - accuracy: 0.1565 - val_loss: 13.3862 - val_accuracy: 0.1695\n",
            "Epoch 68/100\n",
            "34/34 [==============================] - 0s 13ms/step - loss: 13.4392 - accuracy: 0.1662 - val_loss: 13.3862 - val_accuracy: 0.1695\n",
            "Epoch 69/100\n",
            "34/34 [==============================] - 0s 13ms/step - loss: 13.4632 - accuracy: 0.1647 - val_loss: 13.3862 - val_accuracy: 0.1695\n",
            "Epoch 70/100\n",
            "34/34 [==============================] - 0s 13ms/step - loss: 13.5194 - accuracy: 0.1612 - val_loss: 13.3862 - val_accuracy: 0.1695\n",
            "Epoch 71/100\n",
            "34/34 [==============================] - 0s 13ms/step - loss: 13.6244 - accuracy: 0.1547 - val_loss: 13.3862 - val_accuracy: 0.1695\n",
            "Epoch 72/100\n",
            "34/34 [==============================] - 0s 13ms/step - loss: 13.9356 - accuracy: 0.1354 - val_loss: 13.3862 - val_accuracy: 0.1695\n",
            "Epoch 73/100\n",
            "34/34 [==============================] - 0s 13ms/step - loss: 13.5271 - accuracy: 0.1608 - val_loss: 13.3862 - val_accuracy: 0.1695\n",
            "Epoch 74/100\n",
            "34/34 [==============================] - 0s 13ms/step - loss: 14.0920 - accuracy: 0.1257 - val_loss: 13.3862 - val_accuracy: 0.1695\n",
            "Epoch 75/100\n",
            "34/34 [==============================] - 0s 13ms/step - loss: 13.4852 - accuracy: 0.1633 - val_loss: 13.3862 - val_accuracy: 0.1695\n",
            "Epoch 76/100\n",
            "34/34 [==============================] - 0s 13ms/step - loss: 13.1630 - accuracy: 0.1833 - val_loss: 13.3862 - val_accuracy: 0.1695\n",
            "Epoch 77/100\n",
            "34/34 [==============================] - 0s 13ms/step - loss: 13.8062 - accuracy: 0.1434 - val_loss: 13.3862 - val_accuracy: 0.1695\n",
            "Epoch 78/100\n",
            "34/34 [==============================] - 0s 13ms/step - loss: 13.4931 - accuracy: 0.1629 - val_loss: 13.3862 - val_accuracy: 0.1695\n",
            "Epoch 79/100\n",
            "34/34 [==============================] - 0s 13ms/step - loss: 13.5486 - accuracy: 0.1594 - val_loss: 13.3862 - val_accuracy: 0.1695\n",
            "Epoch 80/100\n",
            "34/34 [==============================] - 0s 13ms/step - loss: 13.2167 - accuracy: 0.1800 - val_loss: 13.3862 - val_accuracy: 0.1695\n",
            "Epoch 81/100\n",
            "34/34 [==============================] - 0s 13ms/step - loss: 13.3568 - accuracy: 0.1713 - val_loss: 13.3862 - val_accuracy: 0.1695\n",
            "Epoch 82/100\n",
            "34/34 [==============================] - 0s 13ms/step - loss: 13.5813 - accuracy: 0.1574 - val_loss: 13.3862 - val_accuracy: 0.1695\n",
            "Epoch 83/100\n",
            "34/34 [==============================] - 0s 13ms/step - loss: 13.2211 - accuracy: 0.1797 - val_loss: 13.3862 - val_accuracy: 0.1695\n",
            "Epoch 84/100\n",
            "34/34 [==============================] - 0s 13ms/step - loss: 13.5373 - accuracy: 0.1601 - val_loss: 13.3862 - val_accuracy: 0.1695\n",
            "Epoch 85/100\n",
            "34/34 [==============================] - 0s 13ms/step - loss: 13.7868 - accuracy: 0.1446 - val_loss: 13.3862 - val_accuracy: 0.1695\n",
            "Epoch 86/100\n",
            "34/34 [==============================] - 0s 13ms/step - loss: 13.8408 - accuracy: 0.1413 - val_loss: 13.3862 - val_accuracy: 0.1695\n",
            "Epoch 87/100\n",
            "34/34 [==============================] - 0s 13ms/step - loss: 13.4976 - accuracy: 0.1626 - val_loss: 13.3862 - val_accuracy: 0.1695\n",
            "Epoch 88/100\n",
            "34/34 [==============================] - 0s 13ms/step - loss: 13.8568 - accuracy: 0.1403 - val_loss: 13.3862 - val_accuracy: 0.1695\n",
            "Epoch 89/100\n",
            "34/34 [==============================] - 0s 13ms/step - loss: 13.4602 - accuracy: 0.1649 - val_loss: 13.3862 - val_accuracy: 0.1695\n",
            "Epoch 90/100\n",
            "34/34 [==============================] - 0s 13ms/step - loss: 13.8549 - accuracy: 0.1404 - val_loss: 13.3862 - val_accuracy: 0.1695\n",
            "Epoch 91/100\n",
            "34/34 [==============================] - 0s 13ms/step - loss: 13.7369 - accuracy: 0.1477 - val_loss: 13.3862 - val_accuracy: 0.1695\n",
            "Epoch 92/100\n",
            "34/34 [==============================] - 0s 13ms/step - loss: 13.5743 - accuracy: 0.1578 - val_loss: 13.3862 - val_accuracy: 0.1695\n",
            "Epoch 93/100\n",
            "34/34 [==============================] - 0s 13ms/step - loss: 13.7552 - accuracy: 0.1466 - val_loss: 13.3862 - val_accuracy: 0.1695\n",
            "Epoch 94/100\n",
            "34/34 [==============================] - 0s 13ms/step - loss: 13.9064 - accuracy: 0.1372 - val_loss: 13.3862 - val_accuracy: 0.1695\n",
            "Epoch 95/100\n",
            "34/34 [==============================] - 0s 13ms/step - loss: 14.0587 - accuracy: 0.1278 - val_loss: 13.3862 - val_accuracy: 0.1695\n",
            "Epoch 96/100\n",
            "34/34 [==============================] - 0s 13ms/step - loss: 13.7898 - accuracy: 0.1445 - val_loss: 13.3862 - val_accuracy: 0.1695\n",
            "Epoch 97/100\n",
            "34/34 [==============================] - 1s 16ms/step - loss: 13.1232 - accuracy: 0.1858 - val_loss: 13.3862 - val_accuracy: 0.1695\n",
            "Epoch 98/100\n",
            "34/34 [==============================] - 0s 13ms/step - loss: 13.4785 - accuracy: 0.1638 - val_loss: 13.3862 - val_accuracy: 0.1695\n",
            "Epoch 99/100\n",
            "34/34 [==============================] - 0s 13ms/step - loss: 13.5922 - accuracy: 0.1567 - val_loss: 13.3862 - val_accuracy: 0.1695\n",
            "Epoch 100/100\n",
            "34/34 [==============================] - 0s 13ms/step - loss: 13.8594 - accuracy: 0.1401 - val_loss: 13.3862 - val_accuracy: 0.1695\n"
          ],
          "name": "stdout"
        }
      ]
    },
    {
      "cell_type": "code",
      "metadata": {
        "id": "f5ZVOcDt6nZ3"
      },
      "source": [
        ""
      ],
      "execution_count": null,
      "outputs": []
    },
    {
      "cell_type": "code",
      "metadata": {
        "id": "YxflccgrS4wK"
      },
      "source": [
        "keras_file = \"model.h5\"\r\n",
        "keras.models.save_model(model, keras_file)"
      ],
      "execution_count": 143,
      "outputs": []
    },
    {
      "cell_type": "code",
      "metadata": {
        "colab": {
          "base_uri": "https://localhost:8080/"
        },
        "id": "cXv23OPZuOM9",
        "outputId": "94c63b4d-23c2-4f69-a4b8-8f20bfa84a01"
      },
      "source": [
        "converter = tf.lite.TFLiteConverter.from_keras_model(model)\r\n",
        "tflite_model = converter.convert()\r\n",
        "\r\n",
        "with open('model.tflite', 'wb') as f:\r\n",
        "  f.write(tflite_model)"
      ],
      "execution_count": 146,
      "outputs": [
        {
          "output_type": "stream",
          "text": [
            "INFO:tensorflow:Assets written to: /tmp/tmpo4wygceg/assets\n"
          ],
          "name": "stdout"
        },
        {
          "output_type": "stream",
          "text": [
            "INFO:tensorflow:Assets written to: /tmp/tmpo4wygceg/assets\n"
          ],
          "name": "stderr"
        }
      ]
    },
    {
      "cell_type": "code",
      "metadata": {
        "colab": {
          "base_uri": "https://localhost:8080/"
        },
        "id": "ws9nLJf_xQK9",
        "outputId": "84f06263-fbe5-4935-e53b-8b870e332c04"
      },
      "source": [
        "from google.colab import drive\n",
        "drive.mount('/content/drive')"
      ],
      "execution_count": 147,
      "outputs": [
        {
          "output_type": "stream",
          "text": [
            "Drive already mounted at /content/drive; to attempt to forcibly remount, call drive.mount(\"/content/drive\", force_remount=True).\n"
          ],
          "name": "stdout"
        }
      ]
    }
  ]
}